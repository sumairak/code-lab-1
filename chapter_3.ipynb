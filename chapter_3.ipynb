{
  "nbformat": 4,
  "nbformat_minor": 0,
  "metadata": {
    "colab": {
      "provenance": [],
      "authorship_tag": "ABX9TyOUNhh1aT0Wcib+B0xi0FfM",
      "include_colab_link": true
    },
    "kernelspec": {
      "name": "python3",
      "display_name": "Python 3"
    },
    "language_info": {
      "name": "python"
    }
  },
  "cells": [
    {
      "cell_type": "markdown",
      "metadata": {
        "id": "view-in-github",
        "colab_type": "text"
      },
      "source": [
        "<a href=\"https://colab.research.google.com/github/sumairak/code-lab-1/blob/main/chapter_3.ipynb\" target=\"_parent\"><img src=\"https://colab.research.google.com/assets/colab-badge.svg\" alt=\"Open In Colab\"/></a>"
      ]
    },
    {
      "cell_type": "code",
      "source": [
        "# exercise 1:"
      ],
      "metadata": {
        "id": "wCvbzr6jXPA1"
      },
      "execution_count": null,
      "outputs": []
    },
    {
      "cell_type": "code",
      "source": [
        "# store the names of a few of your friends in the list called names .Print each persons name by accessing each elements in the list, one at time.\n",
        "\n",
        "\n",
        "\n",
        "names = ['sara','faiza','noor']\n",
        "\n",
        "print(names[0])\n",
        "print(names[1])\n",
        "print(names[2])             \n",
        "\n",
        "                         # list some of your friends name and print each of them by ecessing the elements in the list.\n"
      ],
      "metadata": {
        "id": "Ra2jWkItWOkY",
        "colab": {
          "base_uri": "https://localhost:8080/"
        },
        "outputId": "257caac4-8e4c-4f96-bcd8-0e650f838c88"
      },
      "execution_count": null,
      "outputs": [
        {
          "output_type": "stream",
          "name": "stdout",
          "text": [
            "sara\n",
            "faiza\n",
            "noor\n"
          ]
        }
      ]
    },
    {
      "cell_type": "code",
      "source": [
        "#exercise 2:"
      ],
      "metadata": {
        "id": "aSp86rN7XioC"
      },
      "execution_count": null,
      "outputs": []
    },
    {
      "cell_type": "markdown",
      "source": [
        "Start with the list you used in Exercise 1, but instead of just\n",
        "\n",
        "printing each person’s name, print a message to them. The text of each message should be the same, but each message should be\n",
        "\n",
        "personalized with the person’s name."
      ],
      "metadata": {
        "id": "pWNwUe-7nf6v"
      }
    },
    {
      "cell_type": "code",
      "source": [
        "#Exercise 2: Greetings \n",
        "names = ['lubna', 'shaista', 'zara', 'asma','afra'] # list of names\n",
        "\n",
        "print('Hello ' + names[0] + ', Please let me know when you leave for home.') # calling every item specifically and printing a personalized msg\n",
        "print('Hello ' + names[1] + ', lets have tea after 9:00 pm.')\n",
        "print('Hello ' + names[2] + ', how are u doing?')\n",
        "print('Hello ' + names[3] + ', have a safe flight to uk.')\n",
        "print('Hello ' + names[4] +\n",
        "      ', when are you free? I want you to join us for dinner.')\n",
        "\n",
        "\n",
        "                   # a program teach us the that print the name 's of person and and print on same name .0                                                                                               0                                                                                                                                                                                                                                                                                                                                                                                                                  \n",
        "    \n",
        "\n",
        " \n",
        "\n",
        "\n",
        "\n",
        "\n",
        "\n",
        "\n",
        "\n",
        "\n",
        "\n",
        "\n",
        "\n",
        "\n",
        "\n",
        "\n",
        "\n",
        "\n",
        "\n",
        "\n",
        "\n",
        "\n",
        "\n",
        "\n"
      ],
      "metadata": {
        "id": "1ZaufeKlWP86",
        "colab": {
          "base_uri": "https://localhost:8080/"
        },
        "outputId": "356abab1-048c-44a9-c034-9160afa6a091"
      },
      "execution_count": null,
      "outputs": [
        {
          "output_type": "stream",
          "name": "stdout",
          "text": [
            "Hello lubna, Please let me know when you leave for home.\n",
            "Hello shaista, lets have tea after 9:00 pm.\n",
            "Hello zara, how are u doing?\n",
            "Hello asma, have a safe flight to uk.\n",
            "Hello afra, when are you free? I want you to join us for dinner.\n"
          ]
        }
      ]
    },
    {
      "cell_type": "code",
      "source": [],
      "metadata": {
        "id": "DUMOuw7zcdaJ"
      },
      "execution_count": null,
      "outputs": []
    },
    {
      "cell_type": "code",
      "source": [
        "# Exercise 3: start with the list u used in excercise 3-1 but instead of just printing each person's name print message  to them \n",
        "#but each message shold be personalized with the person name.\n",
        "\n",
        "\n",
        "names = ['asma', 'faiza', 'noor']\n",
        "\n",
        "msg = \"Hi, \" + names[0].title() + \"!\"\n",
        "print(msg)\n",
        "\n",
        "msg = \"Hi,\" + names [1].title() + \"!\"\n",
        "print(msg)\n",
        "\n",
        "msg = \"Hi,\" + names [2].title() + \"!\"\n",
        "\n",
        "               #  list of the persons printing each person's name and each sholdd be personlized with the person names.\n"
      ],
      "metadata": {
        "colab": {
          "base_uri": "https://localhost:8080/"
        },
        "id": "CRZ66ghfqS7l",
        "outputId": "e909ad1a-9de1-440a-fb15-ee2a76995310"
      },
      "execution_count": null,
      "outputs": [
        {
          "output_type": "stream",
          "name": "stdout",
          "text": [
            "Hi, Asma!\n",
            "Hi,Faiza!\n",
            "Hi,Noor!\n"
          ]
        }
      ]
    },
    {
      "cell_type": "code",
      "source": [
        "# exercise 3:"
      ],
      "metadata": {
        "id": "Tmg3KXeNc7ss"
      },
      "execution_count": null,
      "outputs": []
    },
    {
      "cell_type": "markdown",
      "source": [
        "You just heard that one of your guests can’t make the dinner, so you need to send out a new set of invitations. You’ll have to think of someone else to invite.\n",
        "\n",
        "•Start with your program from Exercise 3-4. Add a print() call at the end of your program stating the name of the guest who can’t make it.\n",
        "\n",
        "•Modify your list, replacing the name of the guest who can’t make it with the name of the new person you are inviting.\n",
        "\n",
        "•Print a second set of invitation messages, one for each person who is still in your list.\n",
        "\n",
        "   "
      ],
      "metadata": {
        "id": "oj1pt6zH0_wn"
      }
    },
    {
      "cell_type": "code",
      "source": [
        "# Exercise 4: list of people inviting for the dinner.\n",
        "\n",
        "\n",
        "guests = ['zara', 'mahra', 'noor']\n",
        "\n",
        "\n",
        "name = guests[0].title()\n",
        "print(name + \", please come to dinner.\")\n",
        "\n",
        "name = guests [1].title()\n",
        "print(name + \", please come to dinner.\")\n",
        "\n",
        "name = guests [2].title()\n",
        "print(name + \", please come to dinner.\")\n",
        "                          \n",
        "\n",
        "                                      # program to know about the people inviting to the dinner.\n"
      ],
      "metadata": {
        "colab": {
          "base_uri": "https://localhost:8080/"
        },
        "id": "WVV2SvyJsw_v",
        "outputId": "670e56f3-2b7b-493d-a19d-461f7df18a58"
      },
      "execution_count": null,
      "outputs": [
        {
          "output_type": "stream",
          "name": "stdout",
          "text": [
            "Zara, please come to dinner.\n",
            "Mahra, please come to dinner.\n",
            "Noor, please come to dinner.\n"
          ]
        }
      ]
    },
    {
      "cell_type": "markdown",
      "source": [
        "If you could invite anyone, living or deceased, to dinner, who would you invite? Make a list that includes at least three people you’d\n",
        "\n",
        "like to invite to dinner. Then use your list to print a message to each person, invitingthem to dinner.\n",
        "\n",
        "   "
      ],
      "metadata": {
        "id": "BuU7_0t9yWgg"
      }
    },
    {
      "cell_type": "code",
      "source": [
        "#Exercise 5:  a program to modify guest list\n",
        "\n",
        "\n",
        "guest_list = ['joe', 'kristian', 'riyan', 'rafael']\n",
        "\n",
        "print('just heard that ' + guest_list[2] + \" wouldn't be able to make it....\")\n",
        "\n",
        "guest_list[2] = 'patrick'\n",
        "print(guest_list)\n",
        "\n",
        "print('Hi again' + guest_list[0] +\n",
        "      ', you are invited for dinner at my house.')\n",
        "print('Hi again' + guest_list[1] +\n",
        "      ', you are invited for dinner at my house.')\n",
        "print('Hi agian' + guest_list[2] +\n",
        "      ', you are invited for the dinner at my house.')\n",
        "print('Hi again' + guest_list[3] +\n",
        "      ', you are invited for dinner at my house.')\n",
        "\n",
        "\n",
        "          #  thius program teach us the that how to modufiy the guests lists.,\n",
        "\n",
        "\n",
        "\n",
        "\n",
        "\n",
        "\n",
        "\n",
        "\n",
        "\n",
        "\n",
        "\n",
        "\n",
        "\n",
        "\n",
        "\n",
        "\n",
        "\n",
        "\n",
        "\n",
        "\n",
        "\n",
        "\n",
        "\n",
        "\n",
        "\n",
        "\n",
        "\n",
        "      \n",
        "\n",
        "\n",
        "\n",
        "\n",
        "\n"
      ],
      "metadata": {
        "colab": {
          "base_uri": "https://localhost:8080/"
        },
        "id": "-6h3EvvTwiqR",
        "outputId": "bb26a7fe-0c40-4297-a4cd-fcd55ff3cfe3"
      },
      "execution_count": null,
      "outputs": [
        {
          "output_type": "stream",
          "name": "stdout",
          "text": [
            "just heard that riyan wouldn't be able to make it....\n",
            "['joe', 'kristian', 'patrick', 'rafael']\n",
            "Hi againjoe, you are invited for dinner at my house.\n",
            "Hi againkristian, you are invited for dinner at my house.\n",
            "Hi agianpatrick, you are invited for the dinner at my house.\n",
            "Hi againrafael, you are invited for dinner at my house.\n"
          ]
        }
      ]
    },
    {
      "cell_type": "markdown",
      "source": [
        "•Print a message to each of the two people still on your list, letting them know they’re still invited.\n",
        "\n",
        "•Use del to remove the last two names from your list, so you have an empty list. Print your list to make sure you actually have an empty list at the end of your program.    "
      ],
      "metadata": {
        "id": "AM2IdH5V2vHo"
      }
    },
    {
      "cell_type": "code",
      "source": [
        "\n",
        " guest_list = ['zara', ' naima', 'afra','faiza']\n",
        "\n",
        " print('bad news guys, I only invite two people for dinner....')\n",
        "\n",
        " print('sorry my dear friend' + \n",
        "       guest_list[3] + ', you are not invited for dinner.')\n",
        " guest_list.pop(3)\n",
        " print(guest_list)\n",
        "\n",
        "\n",
        " print('sorry my dear friend ' + \n",
        "       guest_list[1] + ', you are not invited for dinner.')\n",
        " guest_list.pop(1)\n",
        " print(guest_list)\n",
        "\n",
        "\n",
        " print('Dear ' + guest_list[0] + ', you are still invited for dinner.')\n",
        " print('Dear' + guest_list[1] + ',you are still invited for dinner. ')\n",
        "\n",
        " del guest_list[:]\n",
        " print('Guest_list: ', guest_list)\n",
        "\n",
        "\n",
        "      #a program to use def to remove the last two names.\n",
        "\n",
        "\n",
        "\n",
        "\n",
        "\n",
        "\n",
        "\n",
        "\n",
        "\n",
        "\n",
        "\n",
        "\n",
        "\n",
        "\n",
        "\n",
        "\n",
        "\n",
        "\n",
        "\n",
        "\n",
        "\n",
        "\n",
        "\n",
        "\n",
        "\n",
        "\n",
        "\n",
        "\n",
        "\n",
        "\n",
        "\n",
        "\n",
        "\n",
        "\n",
        "\n",
        "\n",
        "\n",
        "\n",
        "\n",
        "\n",
        "\n",
        "\n",
        "\n",
        "\n",
        "\n",
        "\n",
        "\n",
        "\n",
        "\n",
        "\n",
        "\n",
        "\n",
        "\n",
        "\n",
        "\n",
        "\n",
        "\n",
        "\n",
        "\n",
        "\n",
        "\n",
        "\n",
        "\n",
        "\n",
        "\n",
        "\n",
        "\n",
        "\n",
        "\n",
        "\n",
        "\n",
        "\n",
        "\n",
        "\n",
        "\n",
        "\n",
        "\n",
        " \n"
      ],
      "metadata": {
        "colab": {
          "base_uri": "https://localhost:8080/"
        },
        "id": "W_PpruBYgjlX",
        "outputId": "ea3c085d-6999-4070-fc77-6451d655013c"
      },
      "execution_count": null,
      "outputs": [
        {
          "output_type": "stream",
          "name": "stdout",
          "text": [
            "bad news guys, I only invite two people for dinner....\n",
            "sorry my dear friendfaiza, you are not invited for dinner.\n",
            "['zara', ' naima', 'afra']\n",
            "sorry my dear friend  naima, you are not invited for dinner.\n",
            "['zara', 'afra']\n",
            "Dear zara, you are still invited for dinner.\n",
            "Dearafra,you are still invited for dinner. \n",
            "Guest_list:  []\n"
          ]
        }
      ]
    },
    {
      "cell_type": "code",
      "source": [
        "# program to sort the contents of lists in diffrent orders\n",
        "\n",
        "places = ['pakistan', 'toronto', 'uae', 'karachi', 'uk']\n",
        "print(places)\n",
        "print('\\n')\n",
        "\n",
        "print(sorted(places)) # alphabetical orderlist  \n",
        "print(places) # checking the  orginal list \n",
        "\n",
        "print('\\n')\n",
        "\n",
        "print(sorted(places, reverse =True)) # reverse order list \n",
        "print(places) # checking the original list \n",
        "\n",
        "print('\\n')\n",
        "\n",
        "places =  list(reversed(places)) # reversing again back to its original form\n",
        "print(places) # prints original order\n",
        "\n",
        "print('\\n')\n",
        "\n",
        "\n",
        "places.sort() # change the original list to alphebetical order\n",
        "print(places) # print the change  in the order of the list\n",
        "\n",
        "\n",
        "places.sort(reverse=True) # change to reversed alphebetical order\n",
        "print(places) # print the changes made\n",
        "\n",
        "    \n",
        "                 # a program to sort out the content lists in different oorders.\n",
        "                                                                            \n",
        "                                                   \n",
        "\n"
      ],
      "metadata": {
        "colab": {
          "base_uri": "https://localhost:8080/"
        },
        "id": "Puhq-ymnmgEH",
        "outputId": "fbe7b139-1136-425e-b0cd-1bd45ed22f37"
      },
      "execution_count": null,
      "outputs": [
        {
          "output_type": "stream",
          "name": "stdout",
          "text": [
            "['pakistan', 'toronto', 'uae', 'karachi', 'uk']\n",
            "\n",
            "\n",
            "['karachi', 'pakistan', 'toronto', 'uae', 'uk']\n",
            "['pakistan', 'toronto', 'uae', 'karachi', 'uk']\n",
            "\n",
            "\n",
            "['uk', 'uae', 'toronto', 'pakistan', 'karachi']\n",
            "['pakistan', 'toronto', 'uae', 'karachi', 'uk']\n",
            "\n",
            "\n",
            "['uk', 'karachi', 'uae', 'toronto', 'pakistan']\n",
            "\n",
            "\n",
            "['karachi', 'pakistan', 'toronto', 'uae', 'uk']\n",
            "['uk', 'uae', 'toronto', 'pakistan', 'karachi']\n"
          ]
        }
      ]
    },
    {
      "cell_type": "code",
      "source": [],
      "metadata": {
        "id": "Ele1RNpH4UYK"
      },
      "execution_count": null,
      "outputs": []
    }
  ]
}