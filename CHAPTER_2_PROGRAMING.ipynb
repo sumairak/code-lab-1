{
  "nbformat": 4,
  "nbformat_minor": 0,
  "metadata": {
    "colab": {
      "provenance": [],
      "authorship_tag": "ABX9TyMgBcw0bN8MlxFvIv+koIi2",
      "include_colab_link": true
    },
    "kernelspec": {
      "name": "python3",
      "display_name": "Python 3"
    },
    "language_info": {
      "name": "python"
    }
  },
  "cells": [
    {
      "cell_type": "markdown",
      "metadata": {
        "id": "view-in-github",
        "colab_type": "text"
      },
      "source": [
        "<a href=\"https://colab.research.google.com/github/sumairak/code-lab-1/blob/main/CHAPTER_2_PROGRAMING.ipynb\" target=\"_parent\"><img src=\"https://colab.research.google.com/assets/colab-badge.svg\" alt=\"Open In Colab\"/></a>"
      ]
    },
    {
      "cell_type": "code",
      "source": [
        "# exercise 1:"
      ],
      "metadata": {
        "id": "R_rcajtPUJTq"
      },
      "execution_count": null,
      "outputs": []
    },
    {
      "cell_type": "markdown",
      "source": [
        "Assign a message to a variable, and print that message. Then change the value of the variable to a new message, and print the new message.\n",
        "\n",
        "     "
      ],
      "metadata": {
        "id": "J5m-Sp75VPQo"
      }
    },
    {
      "cell_type": "code",
      "execution_count": null,
      "metadata": {
        "colab": {
          "base_uri": "https://localhost:8080/"
        },
        "id": "VuBwkH2oN6yb",
        "outputId": "c55a2384-535d-48df-ad85-e0f9f6651b95"
      },
      "outputs": [
        {
          "output_type": "stream",
          "name": "stdout",
          "text": [
            "my favorite number is 34.\n"
          ]
        }
      ],
      "source": [
        "#EXERCISE 1 use the varaible to represent your favorite number.Then,using that varaible,create a message that reveal your favorite number print that message\n",
        "\n",
        "\n",
        "fav_num = 34\n",
        "\n",
        "msg =f\"my favorite number is {fav_num}.\"\n",
        "\n",
        "print(msg)\n",
        "\n",
        "\n",
        "           # a program to chnage the value of variable  to the new variable and print it."
      ]
    },
    {
      "cell_type": "code",
      "source": [
        "# exercise 2:"
      ],
      "metadata": {
        "id": "_xcL8KHzUkTH"
      },
      "execution_count": null,
      "outputs": []
    },
    {
      "cell_type": "markdown",
      "source": [
        "Use a variable to represent a person’s name, and include some whitespace characters at the beginning and end of the name. Make sure you use each character combination, “\\t” and “\\n”, at least once.\n",
        "\n",
        "Print the name once, so the whitespace around the name is displayed.\n",
        "\n",
        "Then print the name using each of the three stripping functions, lstrip(), rstrip(), and strip()."
      ],
      "metadata": {
        "id": "gCL_X9FVcqJT"
      }
    },
    {
      "cell_type": "code",
      "source": [
        "# excercise 2\n",
        "\n",
        "\n",
        "\n",
        "name =\"\\tEric Mathes\\n\"\n",
        "\n",
        "print(\"unmodified:\")\n",
        "print(name)\n",
        "\n",
        "\n",
        "print(\"\\nUsing rstring():\")\n",
        "print(name.strip())\n",
        "\n",
        "\n",
        "print(\"\\nUsing strip():\")\n",
        "print(name.strip())\n",
        "\n",
        "\n",
        "print(\"\\nUsing strip():\")\n",
        "print(name.strip())\n",
        "\n",
        "        # this program teach us to print the person name and some of its charcters .\n",
        "\n",
        "\n",
        "\n",
        "\n",
        "\n",
        "\n"
      ],
      "metadata": {
        "colab": {
          "base_uri": "https://localhost:8080/"
        },
        "id": "MDWB7QsbTh4o",
        "outputId": "8d977cd8-e29c-4546-cf53-b279b7d6b62b"
      },
      "execution_count": null,
      "outputs": [
        {
          "output_type": "stream",
          "name": "stdout",
          "text": [
            "unmodified:\n",
            "\tEric Mathes\n",
            "\n",
            "\n",
            "Using rstring():\n",
            "Eric Mathes\n",
            "\n",
            "Using strip():\n",
            "Eric Mathes\n",
            "\n",
            "Using strip():\n",
            "Eric Mathes\n"
          ]
        }
      ]
    },
    {
      "cell_type": "code",
      "source": [
        "#exercise 3: find the quote from a famouse person u know u admire.Print the quote and the of its author.Your output should be ;ike somthimg following ,including the quatation marks.\n",
        "# Albert Einsteinonce said  ,A person who never made mistake means she or he never try anything .\n",
        "\n",
        "\n",
        "print('Albert Einstein,\"A person who never made a mistake ')\n",
        "print('never try anything new.\"')\n",
        "\n",
        "             # its a program of quote from wperson that who never did mistake ,means  he never try somthin."
      ],
      "metadata": {
        "colab": {
          "base_uri": "https://localhost:8080/"
        },
        "id": "nStrZM5yYDLc",
        "outputId": "771e598c-a69f-41a9-9abd-7ac72e3ff34b"
      },
      "execution_count": null,
      "outputs": [
        {
          "output_type": "stream",
          "name": "stdout",
          "text": [
            "Albert Einstein,\"A person who never made a mistake \n",
            "never try anything new.\"\n"
          ]
        }
      ]
    },
    {
      "cell_type": "code",
      "source": [
        "# exercise 4:Assign a message to variable ,and print that message .\n",
        "#Then change the value of the varaible\n",
        "\n",
        "\n",
        "msg = \"i love python.\"\n",
        "print(msg)\n",
        "\n",
        "msg = \"it's really satisfying!\" \n",
        "print(msg)\n",
        "\n",
        "               to assign mesage and the print then change into value variable.\n",
        "\n"
      ],
      "metadata": {
        "colab": {
          "base_uri": "https://localhost:8080/"
        },
        "id": "RAArgZJFcMn5",
        "outputId": "2c9d93fb-afb5-44bd-9995-d1333eb44a64"
      },
      "execution_count": null,
      "outputs": [
        {
          "output_type": "stream",
          "name": "stdout",
          "text": [
            "i love python.\n",
            "it's really satisfying!\n"
          ]
        }
      ]
    },
    {
      "cell_type": "code",
      "source": [
        "# exercise 5:"
      ],
      "metadata": {
        "id": "zLHA2vckVz_k"
      },
      "execution_count": null,
      "outputs": []
    },
    {
      "cell_type": "markdown",
      "source": [
        "A girl heads to a computer shop to buy some USB sticks. She loves USB sticks and wants as many as she can get for £50. They are £6 each.\n",
        "\n",
        "Write a programme that calculates how many USB sticks she can buy and how many pounds she will have left.\n",
        "\n",
        "You will to use the arithmetic operators to complete this exercise"
      ],
      "metadata": {
        "id": "xz-B2056fd5O"
      }
    },
    {
      "cell_type": "code",
      "source": [
        "# exercise 5\n",
        "\n",
        "print(' Enter the amount avaible = ') # asks the user for the amount avaible\n",
        "amount = float(input())\n",
        "\n",
        "amount_of_USB = 6 # prize of a single USB stick\n",
        "print('A single USB stick costs ' + str(amount_of_USB) + ' dollars.')\n",
        "\n",
        "USBs_bought = amount // amount_of_USB   # calculations\n",
        "balance = amount % amount // amount_of_USB\n",
        "\n",
        "print('You have ' + str(amount) + ' dollars and you can buy '+\n",
        "      str(USBs_bought) + ' sticks')\n",
        "print('Balance = ' + str(balance)) \n",
        "\n",
        "\n",
        "          3 a program that calculate the usb she buys and how many she left'"
      ],
      "metadata": {
        "colab": {
          "base_uri": "https://localhost:8080/"
        },
        "id": "Qcw-AUEeftpb",
        "outputId": "2b36e399-cf47-4609-983d-f054e636b4f1"
      },
      "execution_count": null,
      "outputs": [
        {
          "output_type": "stream",
          "name": "stdout",
          "text": [
            " Enter the amount avaible = \n",
            "6\n",
            "A single USB stick costs 6 dollars.\n",
            "You have 6.0 dollars and you can buy 1.0 sticks\n",
            "Balance = 0.0\n"
          ]
        }
      ]
    }
  ]
}