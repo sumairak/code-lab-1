{
  "nbformat": 4,
  "nbformat_minor": 0,
  "metadata": {
    "colab": {
      "provenance": [],
      "authorship_tag": "ABX9TyMsOa2UhY7+6czBzgGioc++",
      "include_colab_link": true
    },
    "kernelspec": {
      "name": "python3",
      "display_name": "Python 3"
    },
    "language_info": {
      "name": "python"
    }
  },
  "cells": [
    {
      "cell_type": "markdown",
      "metadata": {
        "id": "view-in-github",
        "colab_type": "text"
      },
      "source": [
        "<a href=\"https://colab.research.google.com/github/sumairak/code-lab-1/blob/main/chapter_5_programing.ipynb\" target=\"_parent\"><img src=\"https://colab.research.google.com/assets/colab-badge.svg\" alt=\"Open In Colab\"/></a>"
      ]
    },
    {
      "cell_type": "code",
      "execution_count": null,
      "metadata": {
        "colab": {
          "base_uri": "https://localhost:8080/"
        },
        "id": "cZc0tCIOa7i4",
        "outputId": "18c92686-5733-4a9a-ebd7-6387b4454b42"
      },
      "outputs": [
        {
          "output_type": "stream",
          "name": "stdout",
          "text": [
            "Asmakhan\n",
            "Khan\n",
            "dubai\n",
            "18\n"
          ]
        }
      ],
      "source": [
        "#  exercise 1:a program to use dictionary to store information of a person \n",
        "\n",
        "user_info = {'first_name': 'Asmakhan', \n",
        "             'last_name': 'Khan', 'city': 'dubai', 'age': '18'}\n",
        "          \n",
        "\n",
        "\n",
        "print(user_info['first_name'])\n",
        "print(user_info['last_name'])\n",
        "print(user_info['city'])\n",
        "print(user_info['age']) \n",
        "\n",
        "                           # program which show teach us how to store infomation of the person .\n"
      ]
    },
    {
      "cell_type": "code",
      "source": [
        "# exercise 2: a program to make glossary\n",
        "\n",
        "glossary = {'loop':\n",
        "            'a loop is an operation in programming that repeats a certain statement until a certain condition is met',\n",
        "            'concatenation':\n",
        "            'it efers to the joining of multiple strings to make a single long string.',\n",
        "            'bin()':\n",
        "            'it is the function, used to find the binary value of a certain character.',\n",
        "            'IDE':\n",
        "            'IDE stands for ingrated development environment.It is a space built for coders to run, save, debug, etc. their code in single environment.',\n",
        "            'GitHub': 'it is a platform where we can store our code project in a cloud based repositories, collaborate with other developers and control the versions,'}\n",
        "\n",
        "\n",
        "\n",
        "\n",
        "print('loop:')  \n",
        "print(glossary['loop'])   \n",
        "print('\\n')  \n",
        "\n",
        "\n",
        "print('concatenation:')\n",
        "print(glossary['concatenation'])\n",
        "print('\\n')\n",
        "\n",
        "\n",
        "print('bin():')\n",
        "print(glossary['bin()'])\n",
        "print('\\n')\n",
        "\n",
        "\n",
        "print('IDE:')\n",
        "print(glossary['IDE'])\n",
        "print('\\n')\n",
        "\n",
        "print('GitHup:')\n",
        "print( glossary['GitHub'])\n",
        "\n",
        "\n",
        "             # a program which us how to make an glossary 1 ."
      ],
      "metadata": {
        "colab": {
          "base_uri": "https://localhost:8080/"
        },
        "id": "RmX7pX0Bf89H",
        "outputId": "b7d3d10a-62a2-4b85-ee33-b9d45da4f98b"
      },
      "execution_count": null,
      "outputs": [
        {
          "output_type": "stream",
          "name": "stdout",
          "text": [
            "loop:\n",
            "a loop is an operation in programming that repeats a certain statement until a certain condition is met\n",
            "\n",
            "\n",
            "concatenation:\n",
            "it efers to the joining of multiple strings to make a single long string.\n",
            "\n",
            "\n",
            "bin():\n",
            "it is the function, used to find the binary value of a certain character.\n",
            "\n",
            "\n",
            "IDE:\n",
            "IDE stands for ingrated development environment.It is a space built for coders to run, save, debug, etc. their code in single environment.\n",
            "\n",
            "\n",
            "GitHup:\n",
            "it is a platform where we can store our code project in a cloud based repositories, collaborate with other developers and control the versions,\n"
          ]
        }
      ]
    },
    {
      "cell_type": "code",
      "source": [
        "\n",
        "exercise 3: glossary = {\n",
        "    'string':'A series of characters.',\n",
        "    'comment':'A note in a program that the Python interpreter ignores.',\n",
        "    'module':'haves a namespace containing arbitray python bojects'\n",
        "    'loop' 'work throught a collection pf the items,one at a time.',\n",
        "    'dictionary': \"A collcection of key- value pairs.\",\n",
        "    'elif': 'short for else if, is used to excute a continous chain of conditional logic leader.',\n",
        "    'if': 'compound statements contain groups of other statements.',\n",
        "     'describe': 'A class at specail blinding behavior is triggered upon attribute lookup when its a descriptor.',\n",
        "     'print':'to print objects to the text stream file, separated by sep and folowed by end.',\n",
        "     'metaclass': 'the class of a class.', }\n",
        "\n",
        "for word, definition in glossary.items():\n",
        "  print(f\"\\n{word.title()}: {definition}\")  \n",
        "\n",
        "                # a program which teach us how to make glossry 2."
      ],
      "metadata": {
        "colab": {
          "base_uri": "https://localhost:8080/"
        },
        "id": "68KVmsJP4LRC",
        "outputId": "f6b8ff23-30b1-4270-ad88-454283ad765b"
      },
      "execution_count": null,
      "outputs": [
        {
          "output_type": "stream",
          "name": "stdout",
          "text": [
            "\n",
            "String: A series of characters.\n",
            "\n",
            "Comment: A note in a program that the Python interpreter ignores.\n",
            "\n",
            "Module: haves a namespace containing arbitray python bojectsloopwork throught a collection pf the items,one at a time.\n",
            "\n",
            "Dictionary: A collcection of key- value pairs.\n",
            "\n",
            "Elif: short for else if, is used to excute a continous chain of conditional logic leader.\n",
            "\n",
            "If: compound statements contain groups of other statements.\n",
            "\n",
            "Describe: A class at specail blinding behavior is triggered upon attribute lookup when its a descriptor.\n",
            "\n",
            "Print: to print objects to the text stream file, separated by sep and folowed by end.\n",
            "\n",
            "Metaclass: the class of a class.\n"
          ]
        }
      ]
    },
    {
      "cell_type": "code",
      "source": [
        "# exercise 4: a program to make a dictionary of 3 major rivers, print key-value separate too \n",
        "\n",
        "rivers = {\n",
        "    'nile': 'egypt',\n",
        "    'indus': 'paksitan',\n",
        "    'amazon':'brazil'}\n",
        "\n",
        "\n",
        "\n",
        "print('Printing key_value pairs:')\n",
        "\n",
        "\n",
        "for key, value in rivers.items():\n",
        "  print(f'\\n {key:}')\n",
        "  print(f'value:{value}')\n",
        "\n",
        "  print(f'the rivers {key}flow through {value}')  \n",
        "\n",
        "                     # this program teach us the way how to make the dictionary of three major peoples.\n"
      ],
      "metadata": {
        "colab": {
          "base_uri": "https://localhost:8080/"
        },
        "id": "u7dsfsUSmfoQ",
        "outputId": "78ee78f2-f9c1-4fd8-88fc-d0f70fdfd1d6"
      },
      "execution_count": null,
      "outputs": [
        {
          "output_type": "stream",
          "name": "stdout",
          "text": [
            "Printing key_value pairs:\n",
            "\n",
            " nile\n",
            "value:egypt\n",
            "the rivers nileflow through egypt\n",
            "\n",
            " indus\n",
            "value:paksitan\n",
            "the rivers indusflow through paksitan\n",
            "\n",
            " amazon\n",
            "value:brazil\n",
            "the rivers amazonflow through brazil\n"
          ]
        }
      ]
    },
    {
      "cell_type": "code",
      "source": [
        "# exercise 5:  making several dictionaries, storing them in a list, then printing using loops\n",
        "\n",
        "pet_1 = {\n",
        "    'animals': 'parrot',\n",
        "    'onwer': 'asma',\n",
        "    'pet-color': 'white'}\n",
        "\n",
        "\n",
        "pet_2 = {\n",
        "    'animal':'cat',\n",
        "    'owner': 'ibrar',\n",
        "    'pet-color': 'green'}\n",
        "\n",
        "\n",
        "\n",
        "pet_3 = {\n",
        "    'animal': ' dog',\n",
        "    'owner': 'hadi',\n",
        "    'pet_color': 'grey'}\n",
        "\n",
        "\n",
        "\n",
        "pet_4 = { \n",
        "    \n",
        "    'animal': 'lion',\n",
        "    'owner': 'harris',\n",
        "    'pet_color': 'white'}\n",
        "\n",
        "\n",
        "pets = [pet_1, pet_2, pet_3, pet_4]\n",
        "\n",
        "for pet in pets: \n",
        "     print(pet)\n",
        "\n",
        "     print('\\n')\n",
        "\n",
        " \n",
        "              # making the list of several dictionary while using loop to print."
      ],
      "metadata": {
        "colab": {
          "base_uri": "https://localhost:8080/"
        },
        "id": "k-KbiXvJpAuW",
        "outputId": "e713674e-746c-471f-86b2-17ae4e5e5c1e"
      },
      "execution_count": null,
      "outputs": [
        {
          "output_type": "stream",
          "name": "stdout",
          "text": [
            "{'animals': 'parrot', 'onwer': 'asma', 'pet-color': 'white'}\n",
            "\n",
            "\n",
            "{'animal': 'cat', 'owner': 'ibrar', 'pet-color': 'green'}\n",
            "\n",
            "\n",
            "{'animal': ' dog', 'owner': 'hadi', 'pet_color': 'grey'}\n",
            "\n",
            "\n",
            "{'animal': 'lion', 'owner': 'harris', 'pet_color': 'white'}\n",
            "\n",
            "\n"
          ]
        }
      ]
    }
  ]
}