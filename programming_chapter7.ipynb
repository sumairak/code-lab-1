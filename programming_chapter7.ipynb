{
  "nbformat": 4,
  "nbformat_minor": 0,
  "metadata": {
    "colab": {
      "provenance": [],
      "collapsed_sections": [],
      "authorship_tag": "ABX9TyPvxPIAYrqjV/8J0ewrX0Gq",
      "include_colab_link": true
    },
    "kernelspec": {
      "name": "python3",
      "display_name": "Python 3"
    },
    "language_info": {
      "name": "python"
    }
  },
  "cells": [
    {
      "cell_type": "markdown",
      "metadata": {
        "id": "view-in-github",
        "colab_type": "text"
      },
      "source": [
        "<a href=\"https://colab.research.google.com/github/sumairak/code-lab-1/blob/main/programming_chapter7.ipynb\" target=\"_parent\"><img src=\"https://colab.research.google.com/assets/colab-badge.svg\" alt=\"Open In Colab\"/></a>"
      ]
    },
    {
      "cell_type": "code",
      "source": [
        "#exercise 1:"
      ],
      "metadata": {
        "id": "vDCl8K0OGEpZ"
      },
      "execution_count": null,
      "outputs": []
    },
    {
      "cell_type": "markdown",
      "source": [
        "Write a function called display_message() that prints one sentence telling everyone what you are learning about in this chapter. Call the\n",
        "\n",
        "function, and make sure the message displays correctly."
      ],
      "metadata": {
        "id": "LKVTXoL6EInH"
      }
    },
    {
      "cell_type": "code",
      "execution_count": null,
      "metadata": {
        "colab": {
          "base_uri": "https://localhost:8080/"
        },
        "id": "muhV0w6tYAhh",
        "outputId": "788947b5-75f6-4508-e9e0-bf0418afd1be"
      },
      "outputs": [
        {
          "output_type": "stream",
          "name": "stdout",
          "text": [
            "hello lif!\n"
          ]
        }
      ],
      "source": [
        "[] # exercise 1\n",
        "def greet_user():\n",
        "  print(\"hello lif!\")\n",
        "greet_user()\n",
        "                                     #function of the program is to telling person about display mesages"
      ]
    },
    {
      "cell_type": "code",
      "source": [
        "#exercise 2:"
      ],
      "metadata": {
        "id": "mhMn81HKGKC0"
      },
      "execution_count": null,
      "outputs": []
    },
    {
      "cell_type": "markdown",
      "source": [
        "Write a function called favorite_book() that accepts one parameter, title. The function should print a message, such as One of my\n",
        "\n",
        "favorite books is Alice in Wonderland. Call the function, making sure to include a book title as an argument in the function call."
      ],
      "metadata": {
        "id": "jSjjXNMiEQLt"
      }
    },
    {
      "cell_type": "code",
      "source": [
        "\n",
        "\n",
        "def favorite_book(bookname):\n",
        "  print(f\"My favorite book is {bookname.title()}!\")\n",
        "favorite_book('cooking')\n",
        "                                                in this program it tell about,, whats your fav book and how to take out its title\n"
      ],
      "metadata": {
        "colab": {
          "base_uri": "https://localhost:8080/"
        },
        "id": "LS8id9XWZIof",
        "outputId": "94c56d79-9d6e-417c-beb6-c9d0616d0b61"
      },
      "execution_count": null,
      "outputs": [
        {
          "output_type": "stream",
          "name": "stdout",
          "text": [
            "My favorite book is Cooking!\n"
          ]
        }
      ]
    },
    {
      "cell_type": "code",
      "source": [
        "#exercise 3:"
      ],
      "metadata": {
        "id": "k8UcoBI9GVPA"
      },
      "execution_count": null,
      "outputs": []
    },
    {
      "cell_type": "markdown",
      "source": [
        "☑️\n",
        "Write a function called make_shirt() that accepts a size and the text of a message that should be printed on the shirt. The function\n",
        "\n",
        "should print a sentence summarizing the size of the shirt and the message printed on it. Call the function once using positional\n",
        "\n"
      ],
      "metadata": {
        "id": "ddO5a9jREZ71"
      }
    },
    {
      "cell_type": "code",
      "source": [
        " \n",
        "def make_shirt(msg,size):\n",
        "  print(f\"\\n {msg.title()}, has been added to your shirt with {size} size!\")\n",
        "  make_shirt(str(input(\"please type the text you want to print in the shirt: \")),int(input(\"type the sizw of text:\")))\n",
        "\n",
        "\n",
        "                           #this program teach us that how to print your logo on shirt."
      ],
      "metadata": {
        "colab": {
          "base_uri": "https://localhost:8080/"
        },
        "id": "GmYoAsFyceGI",
        "outputId": "4c5cdb22-0108-462e-eda6-5fd3eef3b809"
      },
      "execution_count": null,
      "outputs": [
        {
          "output_type": "stream",
          "name": "stdout",
          "text": [
            "please type the text you want to print in the shirt: 38\n",
            "type the sizw of text:38\n",
            "\n",
            " 38, has been added to your shirt with 38 size!\n"
          ]
        }
      ]
    },
    {
      "cell_type": "code",
      "source": [
        "#exercise 4:"
      ],
      "metadata": {
        "id": "nMfjDYOaGe4X"
      },
      "execution_count": null,
      "outputs": []
    },
    {
      "cell_type": "markdown",
      "source": [
        "Modify the make_shirt() function so that shirts are large by default with a message that reads I love Python. Make a large shirt and a\n",
        "\n",
        "medium shirt with the default message, and a shirt of any size with a different message.\n",
        "\n",
        "   "
      ],
      "metadata": {
        "id": "0zsWsVaJFQRS"
      }
    },
    {
      "cell_type": "code",
      "source": [
        "\n",
        "\n",
        "def make_shirt(size=\"l\", msg=\"\\\"we march for mecragge!\\\"\"):\n",
        "    print(f\"\\nThe size of the shirt is {size.title()} and the \"\n",
        "        f\"message printed on the shirt is {msg.title()}.\")\n",
        "\n",
        "make_shirt()\n",
        "make_shirt(\"m\")\n",
        "make_shirt(size=\"xl\", msg=\"\\\"And we shall to know no fear!\\\"\")\n",
        "\n",
        "                       # this program teach us about how to print your logo and size on shirt"
      ],
      "metadata": {
        "colab": {
          "base_uri": "https://localhost:8080/"
        },
        "id": "tHrtf83iaxfv",
        "outputId": "b3fa8487-205a-451e-c6a5-453ef5e060e9"
      },
      "execution_count": null,
      "outputs": [
        {
          "output_type": "stream",
          "name": "stdout",
          "text": [
            "\n",
            "The size of the shirt is L and the message printed on the shirt is \"We March For Mecragge!\".\n",
            "\n",
            "The size of the shirt is M and the message printed on the shirt is \"We March For Mecragge!\".\n",
            "\n",
            "The size of the shirt is Xl and the message printed on the shirt is \"And We Shall To Know No Fear!\".\n"
          ]
        }
      ]
    },
    {
      "cell_type": "code",
      "source": [
        "#exercise 5:"
      ],
      "metadata": {
        "id": "pCYhdDLeGlKp"
      },
      "execution_count": null,
      "outputs": []
    },
    {
      "cell_type": "markdown",
      "source": [
        "Write a function called describe_city() that accepts the name of a city and its country. The function should print a simple sentence,\n",
        "\n",
        "such as Reykjavik is in Iceland. Give the parameter for the country a default value.\n",
        "\n",
        "Call your function for three different cities, at least one of which is not in the default country."
      ],
      "metadata": {
        "id": "XXSHVbLfF_Xj"
      }
    },
    {
      "cell_type": "code",
      "source": [
        "def describe_city(city,country=\"philipines\"):\n",
        "\n",
        "  print(f\"\\n {city.title()} is in {country.title()}.\")\n",
        "  describe_city(\"manila\", \"philipines\")\n",
        "  describe_city(str(input(\"city name \")), str(input(\"account name: \"))) \n",
        "  describe_city(str(input(\"\\n city name: \")), str(input(\"country name :\")))\n",
        "  describe_city(str(input(\"\\n city name: \")), str(input(\"country name:\")))\n",
        "\n",
        "                   \n",
        "                        # this program teach us how to print three city or country name."
      ],
      "metadata": {
        "id": "q4Pqgehb0DXt"
      },
      "execution_count": null,
      "outputs": []
    }
  ]
}