{
  "nbformat": 4,
  "nbformat_minor": 0,
  "metadata": {
    "colab": {
      "provenance": [],
      "authorship_tag": "ABX9TyP31Mdj3UBULfsj4KpTMG54",
      "include_colab_link": true
    },
    "kernelspec": {
      "name": "python3",
      "display_name": "Python 3"
    },
    "language_info": {
      "name": "python"
    }
  },
  "cells": [
    {
      "cell_type": "markdown",
      "metadata": {
        "id": "view-in-github",
        "colab_type": "text"
      },
      "source": [
        "<a href=\"https://colab.research.google.com/github/sumairak/code-lab-1/blob/main/chapter_4_programing.ipynb\" target=\"_parent\"><img src=\"https://colab.research.google.com/assets/colab-badge.svg\" alt=\"Open In Colab\"/></a>"
      ]
    },
    {
      "cell_type": "code",
      "execution_count": null,
      "metadata": {
        "colab": {
          "base_uri": "https://localhost:8080/"
        },
        "id": "4dveUae9JqhQ",
        "outputId": "60573fe7-f6d7-44e4-bd8f-9b8c21eb8eeb"
      },
      "outputs": [
        {
          "output_type": "stream",
          "name": "stdout",
          "text": [
            "congratulaion, you have earned 5 points.\n"
          ]
        }
      ],
      "source": [
        "# a program to tell whether the alien color is green or not (true)\n",
        "\n",
        "# in this section, the condition is true \n",
        "alien_color = 'green'\n",
        "\n",
        "if alien_color == 'green':\n",
        "   print('congratulaion, you have earned 5 points.')    \n",
        "\n",
        "# in this section, the condition is false, therefore there will be no output\n",
        "alien_color = 'blue'  \n",
        "\n",
        "\n",
        "if alien_color ==  'green':\n",
        "   print('congratulation, you have earned 5 points.') \n",
        "\n",
        "                    # a program teach us how to changing the color of alien while is any color or no.\n"
      ]
    },
    {
      "cell_type": "code",
      "source": [
        "# a program to domestrate the working of-else statements\n",
        "\n",
        "# in this section, the if statement is true\n",
        "alien_color = 'blue'\n",
        "\n",
        "if alien_color == 'blue':\n",
        "  print('congratulations, you have earned 5 points,')\n",
        "\n",
        "else:\n",
        "  print('congratulations, you have earned 10 points.')\n",
        "\n",
        "  # in this section, the else statement is true \n",
        "  alien_color = 'grey'\n",
        "    \n",
        "if alien_color == 'blue':\n",
        "   print('congratulations, you have earned 5 points.')\n",
        "\n",
        "else:\n",
        "  print('congratulations, you have earned 10 points.')\n",
        "  \n",
        "\n",
        "                          # a program which demostrate the working else statements."
      ],
      "metadata": {
        "colab": {
          "base_uri": "https://localhost:8080/"
        },
        "id": "wdJu13WwMVjX",
        "outputId": "91f378e5-8c9d-47c9-f42f-e5ef24726a5d"
      },
      "execution_count": null,
      "outputs": [
        {
          "output_type": "stream",
          "name": "stdout",
          "text": [
            "congratulations, you have earned 5 points,\n",
            "congratulations, you have earned 5 points.\n"
          ]
        }
      ]
    },
    {
      "cell_type": "code",
      "source": [],
      "metadata": {
        "id": "BI-ulVMdQDpQ"
      },
      "execution_count": null,
      "outputs": []
    },
    {
      "cell_type": "code",
      "source": [
        "# a program to demostrate the working of if-elif-else statements\n",
        "\n",
        "# in this section, the first condition is true\n",
        "alien_color = 'purple'\n",
        "\n",
        "if alien_color == 'purple':\n",
        "   print('you have earned 5 points.')\n",
        "\n",
        "elif alien_color == 'grey':\n",
        "     print('you have earned 10 points.') \n",
        "\n",
        "else: \n",
        "   print('you earned 15 points.')     \n",
        "\n",
        "# in this section, the second condition is true \n",
        "alien_color = 'grey'  \n",
        "\n",
        "if alien_color == 'purple':\n",
        "   print('you have earned 5 points,')\n",
        "\n",
        "\n",
        "           # a program demostrate working on the if_ elif_statements.\n"
      ],
      "metadata": {
        "colab": {
          "base_uri": "https://localhost:8080/"
        },
        "id": "D3hOJNKAPbJ6",
        "outputId": "38254690-f62a-4ffd-abb9-db18a6a71032"
      },
      "execution_count": null,
      "outputs": [
        {
          "output_type": "stream",
          "name": "stdout",
          "text": [
            "you have earned 5 points.\n"
          ]
        }
      ]
    },
    {
      "cell_type": "code",
      "source": [
        "# a program that ask for age and tell about the life \n",
        "\n",
        "print('enter your age =')\n",
        "age = int(input()) \n",
        "\n",
        "if age < 2:\n",
        "      print(' your are an infant')\n",
        "\n",
        "elif age == 2 or age < 4:\n",
        "      print('you are a toddler')\n",
        "\n",
        "elif age == 4 or age < 13:\n",
        "      print('you are kid')\n",
        "\n",
        "elif age == 13 or age < 20:\n",
        "      print('you are teenager')\n",
        "\n",
        "elif age == 20 or age < 75:\n",
        "      print(' you are an adult')\n",
        "\n",
        "else:\n",
        "     print(' you are sn elder')\n",
        "\n",
        "          # A program that tells anout the age and lifes .\n"
      ],
      "metadata": {
        "colab": {
          "base_uri": "https://localhost:8080/"
        },
        "id": "YGJvDcViSFol",
        "outputId": "c3747cbc-a006-4d4e-a8ce-f9754c8f7c8d"
      },
      "execution_count": null,
      "outputs": [
        {
          "output_type": "stream",
          "name": "stdout",
          "text": [
            "enter your age =\n",
            "18 \n",
            "you are teenager\n"
          ]
        }
      ]
    },
    {
      "cell_type": "code",
      "source": [
        "# a program that combine te lists and condional statements\n",
        "\n",
        "fav_fruits =['apple', 'orange', 'banana',]\n",
        "\n",
        "\n",
        "if 'apple'in fav_fruits:\n",
        "   print('damn, you really like apple.')\n",
        "\n",
        "\n",
        "if 'orange' in fav_fruits:\n",
        "   print('damn, you really like orange.')\n",
        "\n",
        "if 'banana' in fav_fruits:\n",
        "   print('damn,you really like banana.')\n",
        "\n",
        "if 'apple' in fav_fruits:\n",
        "   print('damn ,you really like apples.')\n",
        "\n",
        "if 'orange' in fav_fruits: \n",
        "   print(' damn, you really like oranges.')\n",
        "\n",
        "                    # its a program which teach us about the list and conditional statement."
      ],
      "metadata": {
        "colab": {
          "base_uri": "https://localhost:8080/"
        },
        "id": "O8o37-acXv-h",
        "outputId": "683fadbf-4b86-4861-d786-e7e28fbf4d42"
      },
      "execution_count": null,
      "outputs": [
        {
          "output_type": "stream",
          "name": "stdout",
          "text": [
            "damn, you really like apple.\n",
            "damn, you really like orange.\n",
            "damn,you really like banana.\n",
            "damn ,you really like apples.\n",
            " damn, you really like oranges.\n"
          ]
        }
      ]
    }
  ]
}