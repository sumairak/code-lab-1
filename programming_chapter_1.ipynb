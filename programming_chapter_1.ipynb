{
  "nbformat": 4,
  "nbformat_minor": 0,
  "metadata": {
    "colab": {
      "provenance": [],
      "authorship_tag": "ABX9TyMVnAh2cf7SqtPeQmZhAsKi",
      "include_colab_link": true
    },
    "kernelspec": {
      "name": "python3",
      "display_name": "Python 3"
    },
    "language_info": {
      "name": "python"
    }
  },
  "cells": [
    {
      "cell_type": "markdown",
      "metadata": {
        "id": "view-in-github",
        "colab_type": "text"
      },
      "source": [
        "<a href=\"https://colab.research.google.com/github/sumairak/code-lab-1/blob/main/programming_chapter_1.ipynb\" target=\"_parent\"><img src=\"https://colab.research.google.com/assets/colab-badge.svg\" alt=\"Open In Colab\"/></a>"
      ]
    },
    {
      "cell_type": "code",
      "source": [
        "# exercise 1:"
      ],
      "metadata": {
        "id": "mKvjwZD1SYgH"
      },
      "execution_count": null,
      "outputs": []
    },
    {
      "cell_type": "markdown",
      "source": [
        "exercise:1 Write a Python program to print the following string in a specific format.\n",
        "\n",
        "Twinkle, twinkle, little star, How I wonder what you are! Up above the world so high, Like a diamond in the sky. Twinkle, twinkle, little star, How I wonder what you are"
      ],
      "metadata": {
        "id": "pzuOV4NggPEf"
      }
    },
    {
      "cell_type": "code",
      "execution_count": null,
      "metadata": {
        "colab": {
          "base_uri": "https://localhost:8080/"
        },
        "id": "D2zjfeNqyW1-",
        "outputId": "7ff459fb-2725-483c-a134-0c2e26acbf4a"
      },
      "outputs": [
        {
          "output_type": "stream",
          "name": "stdout",
          "text": [
            "twinkle twinkle ittle star\n",
            "how i wonder what u are \n",
            "up about the world so high\n",
            "like a  daimond in the sky \n"
          ]
        }
      ],
      "source": [
        "# exercise 1\n",
        "  # writting my fav english rhymes\n",
        "  #using print()statments for every line, \n",
        "print('up about the world so high')\n",
        "print('like a  daimond in the sky ')   \n",
        "\n",
        "\n",
        "\n",
        "                     # A program which teach us how to format the specific strings\n",
        " \n",
        "\n",
        " \n",
        " \n",
        "\n",
        "\n"
      ]
    },
    {
      "cell_type": "code",
      "source": [
        "# exercise 2:"
      ],
      "metadata": {
        "id": "0mAUuYgRmC_K"
      },
      "execution_count": null,
      "outputs": []
    },
    {
      "cell_type": "markdown",
      "source": [
        "Write a Python program to get the Python version you are using.\n",
        "\n",
        "     "
      ],
      "metadata": {
        "id": "psSoGAVtfcK2"
      }
    },
    {
      "cell_type": "code",
      "source": [
        "import sys\n",
        "print(\"Phyton version\")\n",
        "print(sys.version)\n",
        "\n",
        "\n",
        "              # A program to write the version python u are using ."
      ],
      "metadata": {
        "colab": {
          "base_uri": "https://localhost:8080/"
        },
        "id": "VEvf4UV_0-MT",
        "outputId": "ef1eaf3d-4db0-4cc5-e563-538d92d277ef"
      },
      "execution_count": null,
      "outputs": [
        {
          "output_type": "stream",
          "name": "stdout",
          "text": [
            "Phyton version\n",
            "3.7.15 (default, Oct 12 2022, 19:14:55) \n",
            "[GCC 7.5.0]\n"
          ]
        }
      ]
    },
    {
      "cell_type": "code",
      "source": [
        "print(\"version info\")\n",
        "print(sys.version_info)"
      ],
      "metadata": {
        "colab": {
          "base_uri": "https://localhost:8080/"
        },
        "id": "QAkVH-eBldh8",
        "outputId": "fa462828-e2fd-4459-d50e-87fbeebbacfc"
      },
      "execution_count": null,
      "outputs": [
        {
          "output_type": "stream",
          "name": "stdout",
          "text": [
            "version info\n",
            "sys.version_info(major=3, minor=7, micro=15, releaselevel='final', serial=0)\n"
          ]
        }
      ]
    },
    {
      "cell_type": "code",
      "source": [
        "from datetime import date \n",
        "\n",
        "today= date.today()\n",
        "print(\"today's date\",today)"
      ],
      "metadata": {
        "colab": {
          "base_uri": "https://localhost:8080/"
        },
        "id": "vipG2aqynEww",
        "outputId": "29a022a0-b625-4476-919b-9738b329b08e"
      },
      "execution_count": null,
      "outputs": [
        {
          "output_type": "stream",
          "name": "stdout",
          "text": [
            "today's date 2022-11-04\n"
          ]
        }
      ]
    },
    {
      "cell_type": "code",
      "source": [
        "# exercise 3:Write a Python program to display the current date and time."
      ],
      "metadata": {
        "id": "hf3Fy00yKq_H"
      },
      "execution_count": null,
      "outputs": []
    },
    {
      "cell_type": "code",
      "source": [
        "from datetime import date\n",
        "\n",
        "today=date.today()\n",
        "\n",
        "# dd/mm/yy\n",
        "d1=today.strftime(\"%d/%m/%y\")\n",
        "print(\"d1=\" ,d1)"
      ],
      "metadata": {
        "colab": {
          "base_uri": "https://localhost:8080/"
        },
        "id": "05g632XeoGHp",
        "outputId": "956b4932-5636-4be9-c306-2acd26e82fa5"
      },
      "execution_count": null,
      "outputs": [
        {
          "output_type": "stream",
          "name": "stdout",
          "text": [
            "d1= 04/11/22\n"
          ]
        }
      ]
    },
    {
      "cell_type": "code",
      "source": [
        " # textual month, day and year\n",
        "d2=today.strftime(\"%8%d,Y\")\n",
        "print(\"d2=\",d2)"
      ],
      "metadata": {
        "colab": {
          "base_uri": "https://localhost:8080/"
        },
        "id": "-uQBUEjLEjs5",
        "outputId": "95e95d8f-2257-4b5c-c31d-2444b3feb230"
      },
      "execution_count": null,
      "outputs": [
        {
          "output_type": "stream",
          "name": "stdout",
          "text": [
            "d2=        %d,Y\n"
          ]
        }
      ]
    },
    {
      "cell_type": "code",
      "source": [
        "from datetime import datetime\n",
        "\n",
        " # datetime object containing current date and time \n",
        "now= datetime.now()    \n",
        "\n",
        "\n",
        "          #  a program which display the python current date and time ."
      ],
      "metadata": {
        "id": "rrxei7HyIi40"
      },
      "execution_count": null,
      "outputs": []
    },
    {
      "cell_type": "code",
      "source": [
        " # exercise 4:Write three strings in different variables and print the output as one string.      "
      ],
      "metadata": {
        "id": "Z9oR4HpMLxKy"
      },
      "execution_count": null,
      "outputs": []
    },
    {
      "cell_type": "code",
      "source": [
        "#strings concatination \n",
        "# write three strings in different variable and print the outout as one strings.\n",
        "\n",
        "sentence1='i hate to go  pakistan:'\n",
        "\n",
        "\n",
        "sentence2='without family:'\n",
        "  \n",
        "\n",
        "sentence3='no fun there then'\n",
        "\n",
        "\n",
        "#strings concetenation\n",
        "print(sentence1+sentence2+sentence3) \n",
        "\n",
        "   # a program which show us how to print three varaibles and print its as strings."
      ],
      "metadata": {
        "colab": {
          "base_uri": "https://localhost:8080/"
        },
        "id": "56zAdV6NEKj4",
        "outputId": "78f24efa-1f7c-4d81-bef7-a37f0961641c"
      },
      "execution_count": null,
      "outputs": [
        {
          "output_type": "stream",
          "name": "stdout",
          "text": [
            "i hate to go  pakistan:without family:no fun there then\n"
          ]
        }
      ]
    },
    {
      "cell_type": "code",
      "source": [
        "#exercise 5: compute area of circle\n",
        "#write a python program which acepts the raduis of a circle from the user and compute the area\n",
        "\n",
        "\n",
        "from math import pi\n",
        "r = float(input(\"input the radius of the circle:\"))\n",
        "print(\" The area of the circle with radius\" +str(r)+  \"is \"+str(pi*r**2))  \n",
        "\n",
        "         # a program which show us  radiuse of the circles from the user compute."
      ],
      "metadata": {
        "colab": {
          "base_uri": "https://localhost:8080/"
        },
        "id": "QBf85GeHGEa6",
        "outputId": "d33cb2f9-be0e-485e-aa7c-33e3330e3504"
      },
      "execution_count": null,
      "outputs": [
        {
          "output_type": "stream",
          "name": "stdout",
          "text": [
            "input the radius of the circle:3\n",
            " The area of the circle with radius3.0is 28.274333882308138\n"
          ]
        }
      ]
    },
    {
      "cell_type": "code",
      "source": [],
      "metadata": {
        "id": "KLAb3TUbMbGJ"
      },
      "execution_count": null,
      "outputs": []
    }
  ]
}